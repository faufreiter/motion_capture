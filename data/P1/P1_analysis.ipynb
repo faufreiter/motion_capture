{
 "cells": [
  {
   "cell_type": "markdown",
   "id": "8ca7e79c-c347-48ea-9d88-1704e0f8e2ae",
   "metadata": {},
   "source": [
    "# Motion capture\n",
    "\n"
   ]
  },
  {
   "cell_type": "code",
   "execution_count": 7,
   "id": "9583abc9-eb63-46b1-a87f-4c46cc085cd4",
   "metadata": {},
   "outputs": [],
   "source": [
    "import pandas as pd"
   ]
  },
  {
   "cell_type": "markdown",
   "id": "e49539da-b779-4d86-bbcd-a0464bf798fb",
   "metadata": {},
   "source": [
    "## Data analysis\n",
    "\n",
    "**data per person**:\n",
    "* right arm: magnitude, angle (frame info) --> name: **training_P#_ram_final**\n",
    "* left arm: magnitude, angle (frame info) --> name: **training_P#_lam_final**\n",
    "* right elbow: distance traveled (frame info) --> name: **training_P#_Rdist_traveled_final**\n",
    "* left elbow: distance traveled (frame info) --> name: **training_P#__Ldist_traveled_final**"
   ]
  },
  {
   "cell_type": "markdown",
   "id": "dcbb32d9-516e-44f2-88b4-18997d6bc92f",
   "metadata": {},
   "source": [
    "## P1\n",
    "\n",
    "age: 30\n",
    "* right arm: frame info \n",
    "* left arm: frame info \n",
    "* right elbow: frame info \n",
    "* left elbow: frame info"
   ]
  },
  {
   "cell_type": "code",
   "execution_count": 8,
   "id": "4c95dc66-1c33-40c1-a69f-534c37e07ae8",
   "metadata": {},
   "outputs": [
    {
     "name": "stdout",
     "output_type": "stream",
     "text": [
      "rows: 6585\n",
      "average_P1_ram_FINAL:136.7704065299924 angle\n"
     ]
    }
   ],
   "source": [
    "data_P1_ram = pd.read_csv('./training_P1_ram_final.csv')\n",
    "#Documents/GitHub/motion_capture/data/P1/training_P1_ram_final.csv\n",
    "#first few rows\n",
    "#print(data_P1_ram.head())\n",
    "\n",
    "#number of rows\n",
    "num_rows_data_P1_ram = len(data_P1_ram)\n",
    "print(f\"rows: {num_rows_data_P1_ram}\")\n",
    "\n",
    "average_P1_ram = data_P1_ram.loc[0:6585,'P1_ram_final'].mean()\n",
    "#frame info \n",
    "\n",
    "#print(\"Average P1_ram:\", average_P1_ram)\n",
    "average_P1_ram_FINAL = average_P1_ram/1000\n",
    "average_P1_ram_FINAL\n",
    "print(f\"average_P1_ram_FINAL:{average_P1_ram_FINAL} angle\")"
   ]
  },
  {
   "cell_type": "code",
   "execution_count": 9,
   "id": "c7283b50-ccc4-4833-92ef-c71e1e73f36e",
   "metadata": {},
   "outputs": [
    {
     "name": "stdout",
     "output_type": "stream",
     "text": [
      "rows: 6585\n",
      "average_P1_lam_FINAL:136.81746985573272 angle\n"
     ]
    }
   ],
   "source": [
    "data_P1_lam = pd.read_csv('./training_P1_lam_final.csv')\n",
    "#Documents/GitHub/motion_capture/data/P1/training_P1_lam_final.csv\n",
    "#first few rows\n",
    "#print(data_P1_lam.head())\n",
    "\n",
    "#number of rows\n",
    "num_rows_data_P1_lam = len(data_P1_lam)\n",
    "print(f\"rows: {num_rows_data_P1_lam}\")\n",
    "\n",
    "average_P1_lam = data_P1_lam.loc[0:6585,'angle_lam_final'].mean()\n",
    "#frame info \n",
    "\n",
    "#print(\"Average P1_ram:\", average_P1_ram)\n",
    "average_P1_lam_FINAL = average_P1_lam/1000\n",
    "average_P1_lam_FINAL\n",
    "print(f\"average_P1_lam_FINAL:{average_P1_lam_FINAL} angle\")"
   ]
  },
  {
   "cell_type": "code",
   "execution_count": 10,
   "id": "c9932ba3-aacc-42fb-9c63-43b962d6979e",
   "metadata": {},
   "outputs": [
    {
     "name": "stdout",
     "output_type": "stream",
     "text": [
      "rows - data_P1_Rdist_traveled: 6585\n",
      "Maximum value, travelled distance: 4022250\n",
      "specific value: 2994160\n"
     ]
    }
   ],
   "source": [
    "data_P1_Rdist_traveled = pd.read_csv('./training_P1_Rdist_traveled.csv')\n",
    "#Documents/GitHub/motion_capture/data/P1/training_P1_Rdist_traveled.csv\n",
    "#first few rows\n",
    "#print(data_P1_Rdist_traveled.head())\n",
    "\n",
    "#number of rows\n",
    "num_rows_data_P1_Rdist_traveled = len(data_P1_Rdist_traveled)\n",
    "print(f\"rows - data_P1_Rdist_traveled: {num_rows_data_P1_Rdist_traveled}\")\n",
    "\n",
    "max_value = data_P1_Rdist_traveled['right_elbow_Rdist_traveled'].max()\n",
    "print(f\"Maximum value, travelled distance: {max_value}\")\n",
    "\n",
    "specific_value = data_P1_Rdist_traveled['right_elbow_Rdist_traveled'][4000] #like last value of biceps curls\n",
    "print(f\"specific value: {specific_value}\")"
   ]
  },
  {
   "cell_type": "code",
   "execution_count": 14,
   "id": "a95d9789-0461-48e8-b90c-c9e3e7f8bb80",
   "metadata": {},
   "outputs": [
    {
     "name": "stdout",
     "output_type": "stream",
     "text": [
      "rows - data_P1_Ldist_traveled: 6585\n",
      "Maximum value, travelled distance: 4128088\n",
      "specific value: 2007137\n"
     ]
    }
   ],
   "source": [
    "data_P1_Ldist_traveled = pd.read_csv('./training_P1_Ldist_traveled.csv')\n",
    "#Documents/GitHub/motion_capture/data/P1/training_P1_Ldist_traveled.csv\n",
    "#first few rows\n",
    "#print(data_P1_Ldist_traveled.head())\n",
    "\n",
    "#number of rows\n",
    "num_rows_data_P1_Ldist_traveled = len(data_P1_Ldist_traveled)\n",
    "print(f\"rows - data_P1_Ldist_traveled: {num_rows_data_P1_Ldist_traveled}\")\n",
    "\n",
    "max_value = data_P1_Ldist_traveled['left_elbow_Ldist_traveled'].max()\n",
    "print(f\"Maximum value, travelled distance: {max_value}\")\n",
    "\n",
    "specific_value = data_P1_Ldist_traveled['left_elbow_Ldist_traveled'][4000] #like last value of biceps curls\n",
    "print(f\"specific value: {specific_value}\")"
   ]
  },
  {
   "cell_type": "code",
   "execution_count": null,
   "id": "bf0284cf-4b73-4927-a42f-974ed85356c7",
   "metadata": {},
   "outputs": [],
   "source": []
  }
 ],
 "metadata": {
  "kernelspec": {
   "display_name": "Python 3 (ipykernel)",
   "language": "python",
   "name": "python3"
  },
  "language_info": {
   "codemirror_mode": {
    "name": "ipython",
    "version": 3
   },
   "file_extension": ".py",
   "mimetype": "text/x-python",
   "name": "python",
   "nbconvert_exporter": "python",
   "pygments_lexer": "ipython3",
   "version": "3.9.12"
  }
 },
 "nbformat": 4,
 "nbformat_minor": 5
}
