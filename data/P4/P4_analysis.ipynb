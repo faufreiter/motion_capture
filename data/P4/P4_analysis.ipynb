{
 "cells": [
  {
   "cell_type": "markdown",
   "id": "9e4df8b0-7aa1-4b94-aed2-22890e7fca0d",
   "metadata": {},
   "source": [
    "# Motion capture\n",
    "\n"
   ]
  },
  {
   "cell_type": "code",
   "execution_count": 9,
   "id": "8dfff243-92e6-4313-868d-c2bdc7e15dee",
   "metadata": {},
   "outputs": [],
   "source": [
    "import pandas as pd"
   ]
  },
  {
   "cell_type": "markdown",
   "id": "737bb754-e5ad-49bd-b081-f60a916181b4",
   "metadata": {},
   "source": [
    "## Data analysis\n",
    "\n",
    "**data per person**:\n",
    "* right arm: magnitude, angle (frame info) --> name: **training_P#_ram_final**\n",
    "* left arm: magnitude, angle (frame info) --> name: **training_P#_lam_final**\n",
    "* right elbow: distance traveled (frame info) --> name: **training_P#_Rdist_traveled**\n",
    "* left elbow: distance traveled (frame info) --> name: **training_P#__Ldist_traveled**"
   ]
  },
  {
   "cell_type": "markdown",
   "id": "919c0838-db82-4e82-a970-7ab5b8e6266c",
   "metadata": {},
   "source": [
    "## P4\n",
    "\n",
    "age: 27\n",
    "* right arm: frame info \n",
    "* left arm: frame info \n",
    "* right elbow: frame info \n",
    "* left elbow: frame info"
   ]
  },
  {
   "cell_type": "code",
   "execution_count": 17,
   "id": "26e374a5-3fc5-4901-8d3c-1b9a81b5c050",
   "metadata": {
    "tags": []
   },
   "outputs": [
    {
     "name": "stdout",
     "output_type": "stream",
     "text": [
      "rows: 6090\n",
      "average_P4_ram_FINAL:88.98990336849269 angle\n"
     ]
    }
   ],
   "source": [
    "data_P4_ram = pd.read_csv('./training_P4_ram_final.csv')\n",
    "#Documents/GitHub/motion_capture/data/P4/training_P4_ram_final.csv\n",
    "\n",
    "#first few rows\n",
    "#print(data_P4_ram.head())\n",
    "\n",
    "#number of rows\n",
    "num_rows_data_P4_ram = len(data_P4_ram)\n",
    "print(f\"rows: {num_rows_data_P4_ram}\")\n",
    "\n",
    "average_P4_ram = data_P4_ram.loc[130:3068,'_ram_final'].mean()\n",
    "#frame info \n",
    "\n",
    "#print(\"Average P4_ram:\", average_P4_ram)\n",
    "average_P4_ram_FINAL = average_P4_ram/1000\n",
    "average_P4_ram_FINAL\n",
    "print(f\"average_P4_ram_FINAL:{average_P4_ram_FINAL} angle\")"
   ]
  },
  {
   "cell_type": "code",
   "execution_count": 21,
   "id": "58812442-f767-486d-bd2d-d3df613d14a5",
   "metadata": {
    "tags": []
   },
   "outputs": [
    {
     "name": "stdout",
     "output_type": "stream",
     "text": [
      "rows: 6090\n",
      "average_P4_lam_FINAL:92.85381939437634 angle\n"
     ]
    }
   ],
   "source": [
    "data_P4_lam = pd.read_csv('./training_P4_lam_final.csv')\n",
    "#Documents/GitHub/motion_capture/data/P4/training_P4_lam_final.csv\n",
    "\n",
    "#first few rows\n",
    "#print(data_P4_lam.head())\n",
    "\n",
    "#number of rows\n",
    "num_rows_data_P4_lam = len(data_P4_lam)\n",
    "print(f\"rows: {num_rows_data_P4_lam}\")\n",
    "\n",
    "average_P4_lam = data_P4_lam.loc[3257:6030,'_lam_final'].mean()\n",
    "#frame info \n",
    "\n",
    "#print(\"Average P4_ram:\", average_P4_ram)\n",
    "average_P4_lam_FINAL = average_P4_lam/1000\n",
    "average_P4_lam_FINAL\n",
    "print(f\"average_P4_lam_FINAL:{average_P4_lam_FINAL} angle\")"
   ]
  },
  {
   "cell_type": "code",
   "execution_count": 19,
   "id": "d3a771df-4b5e-4342-b86a-16d95832cfc1",
   "metadata": {},
   "outputs": [
    {
     "name": "stdout",
     "output_type": "stream",
     "text": [
      "rows - data_P4_Rdist_traveled: 6090\n",
      "Maximum value, travelled distance: 6157397\n",
      "Travelled distance, right elbow: 4812481\n"
     ]
    }
   ],
   "source": [
    "data_P4_Rdist_traveled = pd.read_csv('./training_P4_Rdist_traveled.csv')\n",
    "#Documents/GitHub/motion_capture/data/P4/training_P4_Rdist_traveled.csv\n",
    "\n",
    "#first few rows\n",
    "#print(data_P4_Rdist_traveled.head())\n",
    "\n",
    "#number of rows\n",
    "num_rows_data_P4_Rdist_traveled = len(data_P4_Rdist_traveled)\n",
    "print(f\"rows - data_P4_Rdist_traveled: {num_rows_data_P4_Rdist_traveled}\")\n",
    "\n",
    "max_value_R = data_P4_Rdist_traveled['right_elbow_Rdist_traveled'].max()\n",
    "print(f\"Maximum value, travelled distance: {max_value_R}\")\n",
    "\n",
    "#130:3068\n",
    "specific_value = data_P4_Rdist_traveled['right_elbow_Rdist_traveled'][3068] - data_P4_Rdist_traveled['right_elbow_Rdist_traveled'][130]#like last value of biceps curls\n",
    "print(f\"Travelled distance, right elbow: {specific_value}\")"
   ]
  },
  {
   "cell_type": "code",
   "execution_count": 22,
   "id": "6b55b3e0-fa05-4fd1-99e4-5a722ce2752c",
   "metadata": {},
   "outputs": [
    {
     "name": "stdout",
     "output_type": "stream",
     "text": [
      "rows - data_P4_Ldist_traveled: 6090\n",
      "Maximum value, travelled distance: 5392883\n",
      "Travelled distance, left elbow: 3996350\n"
     ]
    }
   ],
   "source": [
    "data_P4_Ldist_traveled = pd.read_csv('./training_P4_Ldist_traveled.csv')\n",
    "#Documents/GitHub/motion_capture/data/P4/training_P4_Ldist_traveled.csv\n",
    "\n",
    "#first few rows\n",
    "#print(data_P4_Ldist_traveled.head())\n",
    "\n",
    "#number of rows\n",
    "num_rows_data_P4_Ldist_traveled = len(data_P4_Ldist_traveled)\n",
    "print(f\"rows - data_P4_Ldist_traveled: {num_rows_data_P4_Ldist_traveled}\")\n",
    "\n",
    "\n",
    "max_value_L = data_P4_Ldist_traveled['left_elbow_Ldist_traveled'].max()\n",
    "print(f\"Maximum value, travelled distance: {max_value_L}\")\n",
    "\n",
    "#3257:6030\n",
    "distance_data = data_P4_Ldist_traveled['left_elbow_Ldist_traveled'][6030] - data_P4_Ldist_traveled['left_elbow_Ldist_traveled'][3257]#like last value of biceps curls\n",
    "print(f\"Travelled distance, left elbow: {distance_data}\")"
   ]
  },
  {
   "cell_type": "code",
   "execution_count": null,
   "id": "dff04656-d496-446d-a94f-78ae18b49c94",
   "metadata": {},
   "outputs": [],
   "source": []
  },
  {
   "cell_type": "code",
   "execution_count": null,
   "id": "45986357-a391-49b5-84df-079bfbc86814",
   "metadata": {},
   "outputs": [],
   "source": []
  }
 ],
 "metadata": {
  "kernelspec": {
   "display_name": "Python 3 (ipykernel)",
   "language": "python",
   "name": "python3"
  },
  "language_info": {
   "codemirror_mode": {
    "name": "ipython",
    "version": 3
   },
   "file_extension": ".py",
   "mimetype": "text/x-python",
   "name": "python",
   "nbconvert_exporter": "python",
   "pygments_lexer": "ipython3",
   "version": "3.9.12"
  }
 },
 "nbformat": 4,
 "nbformat_minor": 5
}
