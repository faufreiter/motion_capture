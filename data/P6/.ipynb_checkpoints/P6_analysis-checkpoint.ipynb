{
 "cells": [
  {
   "cell_type": "markdown",
   "id": "9b9e0fca-a2cc-4dc8-88ab-6571ad972ae5",
   "metadata": {},
   "source": [
    "# Motion capture\n",
    "\n"
   ]
  },
  {
   "cell_type": "code",
   "execution_count": 8,
   "id": "c355cc02-5b5e-4eaa-a79c-673a3afd34bf",
   "metadata": {},
   "outputs": [],
   "source": [
    "import pandas as pd"
   ]
  },
  {
   "cell_type": "markdown",
   "id": "56a20241-0c9b-4598-a6fd-6b13bf3794b3",
   "metadata": {},
   "source": [
    "## Data analysis\n",
    "\n",
    "**data per person**:\n",
    "* right arm: magnitude, angle (frame info) --> name: **training_P#_ram_final**\n",
    "* left arm: magnitude, angle (frame info) --> name: **training_P#_lam_final**\n",
    "* right elbow: distance traveled (frame info) --> name: **training_P#_Rdist_traveled**\n",
    "* left elbow: distance traveled (frame info) --> name: **training_P#__Ldist_traveled**"
   ]
  },
  {
   "cell_type": "markdown",
   "id": "9177f9c9-dd8c-4e77-91b1-3ad52e5ac136",
   "metadata": {},
   "source": [
    "## P6\n",
    "\n",
    "age: 30\n",
    "* right arm: frame info \n",
    "* left arm: frame info \n",
    "* right elbow: frame info \n",
    "* left elbow: frame info"
   ]
  },
  {
   "cell_type": "code",
   "execution_count": 9,
   "id": "24375a73-cc1d-4c7a-9cf2-c47b46bc8c15",
   "metadata": {
    "tags": []
   },
   "outputs": [
    {
     "name": "stdout",
     "output_type": "stream",
     "text": [
      "rows: 5716\n",
      "average_P6_ram_FINAL:95.50765184893785 angle\n"
     ]
    }
   ],
   "source": [
    "data_P6_ram = pd.read_csv('./training_P6_ram_final.csv')\n",
    "#Documents/GitHub/motion_capture/data/P6/training_P6_ram_final.csv\n",
    "\n",
    "#first few rows\n",
    "#print(data_P6_ram.head())\n",
    "\n",
    "#number of rows\n",
    "num_rows_data_P6_ram = len(data_P6_ram)\n",
    "print(f\"rows: {num_rows_data_P6_ram}\")\n",
    "\n",
    "average_P6_ram = data_P6_ram.loc[470:3011,'_ram_final'].mean()\n",
    "#frame info \n",
    "\n",
    "#print(\"Average P6_ram:\", average_P6_ram)\n",
    "average_P6_ram_FINAL = average_P6_ram/1000\n",
    "average_P6_ram_FINAL\n",
    "print(f\"average_P6_ram_FINAL:{average_P6_ram_FINAL} angle\")"
   ]
  },
  {
   "cell_type": "code",
   "execution_count": 13,
   "id": "513501a9-b2d4-4111-a0fd-d1b83e55c30a",
   "metadata": {
    "tags": []
   },
   "outputs": [
    {
     "name": "stdout",
     "output_type": "stream",
     "text": [
      "rows: 5716\n",
      "average_P6_lam_FINAL:91.25156520031422 angle\n"
     ]
    }
   ],
   "source": [
    "data_P6_lam = pd.read_csv('./training_P6_lam_final.csv')\n",
    "#Documents/GitHub/motion_capture/data/P6/training_P6_lam_final.csv\n",
    "\n",
    "#first few rows\n",
    "#print(data_P6_lam.head())\n",
    "\n",
    "#number of rows\n",
    "num_rows_data_P6_lam = len(data_P6_lam)\n",
    "print(f\"rows: {num_rows_data_P6_lam}\")\n",
    "\n",
    "average_P6_lam = data_P6_lam.loc[3170:5715,'_lam_final'].mean()# --> CLIP CUT SHORT!!!!\n",
    "#frame info\n",
    "\n",
    "#print(\"Average P6_ram:\", average_P6_ram)\n",
    "average_P6_lam_FINAL = average_P6_lam/1000\n",
    "average_P6_lam_FINAL\n",
    "print(f\"average_P6_lam_FINAL:{average_P6_lam_FINAL} angle\")"
   ]
  },
  {
   "cell_type": "code",
   "execution_count": 10,
   "id": "148596a2-01d9-4418-b3aa-ad7bea025df9",
   "metadata": {},
   "outputs": [
    {
     "name": "stdout",
     "output_type": "stream",
     "text": [
      "rows - data_P6_Rdist_traveled: 5716\n",
      "Maximum value, travelled distance: 4943168\n",
      "Travelled distance, right elbow: 2869954\n"
     ]
    }
   ],
   "source": [
    "data_P6_Rdist_traveled = pd.read_csv('./training_P6_Rdist_traveled.csv')\n",
    "#Documents/GitHub/motion_capture/data/P6/training_P6_Rdist_traveled.csv\n",
    "\n",
    "#first few rows\n",
    "#print(data_P6_Rdist_traveled.head())\n",
    "\n",
    "#number of rows\n",
    "num_rows_data_P6_Rdist_traveled = len(data_P6_Rdist_traveled)\n",
    "print(f\"rows - data_P6_Rdist_traveled: {num_rows_data_P6_Rdist_traveled}\")\n",
    "\n",
    "max_value_R6 = data_P6_Rdist_traveled['right_elbow_Rdist_traveled'].max()\n",
    "print(f\"Maximum value, travelled distance: {max_value_R6}\")\n",
    "\n",
    "#470:3011\n",
    "specific_value6 = data_P6_Rdist_traveled['right_elbow_Rdist_traveled'][3011] - data_P6_Rdist_traveled['right_elbow_Rdist_traveled'][470]#like last value of biceps curls\n",
    "print(f\"Travelled distance, right elbow: {specific_value6}\")"
   ]
  },
  {
   "cell_type": "code",
   "execution_count": 15,
   "id": "5accd0ed-bc25-483b-bcb7-ba9aec077951",
   "metadata": {},
   "outputs": [
    {
     "name": "stdout",
     "output_type": "stream",
     "text": [
      "rows - data_P6_Ldist_traveled: 5716\n",
      "Maximum value, travelled distance: 4347952\n",
      "Travelled distance, left elbow: 2700990\n"
     ]
    }
   ],
   "source": [
    "data_P6_Ldist_traveled = pd.read_csv('./training_P6_Ldist_traveled.csv')\n",
    "#Documents/GitHub/motion_capture/data/P6/training_P6_Ldist_traveled.csv\n",
    "\n",
    "#first few rows\n",
    "#print(data_P6_Ldist_traveled.head())\n",
    "\n",
    "#number of rows\n",
    "num_rows_data_P6_Ldist_traveled = len(data_P6_Ldist_traveled)\n",
    "print(f\"rows - data_P6_Ldist_traveled: {num_rows_data_P6_Ldist_traveled}\")\n",
    "\n",
    "max_value_L6 = data_P6_Ldist_traveled['left_elbow_Ldist_traveled'].max()\n",
    "print(f\"Maximum value, travelled distance: {max_value_L6}\")\n",
    "\n",
    "#3170:5716 (5715!)\n",
    "distance_data6 = data_P6_Ldist_traveled['left_elbow_Ldist_traveled'][5715] - data_P6_Ldist_traveled['left_elbow_Ldist_traveled'][3170]#like last value of biceps curls\n",
    "print(f\"Travelled distance, left elbow: {distance_data6}\")"
   ]
  },
  {
   "cell_type": "code",
   "execution_count": null,
   "id": "2c9c102b-452d-4884-9f87-14b7d2253704",
   "metadata": {},
   "outputs": [],
   "source": []
  },
  {
   "cell_type": "code",
   "execution_count": null,
   "id": "b5e9f881-4845-466d-81cf-f06fdaa80a12",
   "metadata": {},
   "outputs": [],
   "source": []
  }
 ],
 "metadata": {
  "kernelspec": {
   "display_name": "Python 3 (ipykernel)",
   "language": "python",
   "name": "python3"
  },
  "language_info": {
   "codemirror_mode": {
    "name": "ipython",
    "version": 3
   },
   "file_extension": ".py",
   "mimetype": "text/x-python",
   "name": "python",
   "nbconvert_exporter": "python",
   "pygments_lexer": "ipython3",
   "version": "3.9.12"
  }
 },
 "nbformat": 4,
 "nbformat_minor": 5
}
