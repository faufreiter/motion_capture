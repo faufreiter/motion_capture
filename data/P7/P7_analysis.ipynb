{
 "cells": [
  {
   "cell_type": "markdown",
   "id": "d49e9588-ddba-4d6a-80dd-0d324fce0fec",
   "metadata": {},
   "source": [
    "# Motion capture\n",
    "\n"
   ]
  },
  {
   "cell_type": "code",
   "execution_count": 7,
   "id": "201b7651-87df-474a-bedc-ef32e82bf30a",
   "metadata": {},
   "outputs": [],
   "source": [
    "import pandas as pd"
   ]
  },
  {
   "cell_type": "markdown",
   "id": "cf390288-8648-4d7c-8ea7-da30bc89c9ef",
   "metadata": {},
   "source": [
    "## Data analysis\n",
    "\n",
    "**data per person**:\n",
    "* right arm: magnitude, angle (frame info) --> name: **training_P#_ram_final**\n",
    "* left arm: magnitude, angle (frame info) --> name: **training_P#_lam_final**\n",
    "* right elbow: distance traveled (frame info) --> name: **training_P#_Rdist_traveled**\n",
    "* left elbow: distance traveled (frame info) --> name: **training_P#__Ldist_traveled**"
   ]
  },
  {
   "cell_type": "markdown",
   "id": "44d118c0-1d4c-4c37-9a14-b9b1ff35bddd",
   "metadata": {},
   "source": [
    "## P7\n",
    "\n",
    "age: 41\n",
    "* right arm: frame info \n",
    "* left arm: frame info \n",
    "* right elbow: frame info \n",
    "* left elbow: frame info"
   ]
  },
  {
   "cell_type": "code",
   "execution_count": 9,
   "id": "f2170670-7680-46c7-af7b-0d75a671b71e",
   "metadata": {
    "tags": []
   },
   "outputs": [
    {
     "name": "stdout",
     "output_type": "stream",
     "text": [
      "rows: 7588\n",
      "average_P7_ram_FINAL:105.3036380869058 angle\n"
     ]
    }
   ],
   "source": [
    "data_P7_ram = pd.read_csv('./training_P7_ram_final.csv')\n",
    "#Documents/GitHub/motion_capture/data/P7/training_P7_ram_final.csv\n",
    "\n",
    "#first few rows\n",
    "#print(data_P7_ram.head())\n",
    "\n",
    "#number of rows\n",
    "num_rows_data_P7_ram = len(data_P7_ram)\n",
    "print(f\"rows: {num_rows_data_P7_ram}\")\n",
    "\n",
    "average_P7_ram = data_P7_ram.loc[140:3568,'_ram_final'].mean()\n",
    "#frame info \n",
    "\n",
    "#print(\"Average P7_ram:\", average_P7_ram)\n",
    "average_P7_ram_FINAL = average_P7_ram/1000\n",
    "average_P7_ram_FINAL\n",
    "print(f\"average_P7_ram_FINAL:{average_P7_ram_FINAL} angle\")"
   ]
  },
  {
   "cell_type": "code",
   "execution_count": 11,
   "id": "14d6f5d5-db06-429c-82e5-ccc7207930cb",
   "metadata": {
    "tags": []
   },
   "outputs": [
    {
     "name": "stdout",
     "output_type": "stream",
     "text": [
      "rows: 7588\n",
      "average_P7_lam_FINAL:107.69638035811177 angle\n"
     ]
    }
   ],
   "source": [
    "data_P7_lam = pd.read_csv('./training_P7_lam_final.csv')\n",
    "#Documents/GitHub/motion_capture/data/P7/training_P7_lam_final.csv\n",
    "\n",
    "#first few rows\n",
    "#print(data_P7_lam.head())\n",
    "\n",
    "#number of rows\n",
    "num_rows_data_P7_lam = len(data_P7_lam)\n",
    "print(f\"rows: {num_rows_data_P7_lam}\")\n",
    "\n",
    "average_P7_lam = data_P7_lam.loc[3808:7493,'_lam_final'].mean()\n",
    "#frame info \n",
    "\n",
    "#print(\"Average P7_ram:\", average_P7_ram)\n",
    "average_P7_lam_FINAL = average_P7_lam/1000\n",
    "average_P7_lam_FINAL\n",
    "print(f\"average_P7_lam_FINAL:{average_P7_lam_FINAL} angle\")"
   ]
  },
  {
   "cell_type": "code",
   "execution_count": 10,
   "id": "ae9d237c-7f8b-4a3a-a77f-8af5ed24a937",
   "metadata": {},
   "outputs": [
    {
     "name": "stdout",
     "output_type": "stream",
     "text": [
      "rows - data_P7_Rdist_traveled: 7588\n",
      "Maximum value, travelled distance: 5063086\n",
      "Travelled distance, right elbow: 3284535\n"
     ]
    }
   ],
   "source": [
    "data_P7_Rdist_traveled = pd.read_csv('./training_P7_Rdist_traveled.csv')\n",
    "#Documents/GitHub/motion_capture/data/P7/training_P7_Rdist_traveled.csv\n",
    "\n",
    "#first few rows\n",
    "#print(data_P7_Rdist_traveled.head())\n",
    "\n",
    "#number of rows\n",
    "num_rows_data_P7_Rdist_traveled = len(data_P7_Rdist_traveled)\n",
    "print(f\"rows - data_P7_Rdist_traveled: {num_rows_data_P7_Rdist_traveled}\")\n",
    "\n",
    "max_value_R7 = data_P7_Rdist_traveled['right_elbow_Rdist_traveled'].max()\n",
    "print(f\"Maximum value, travelled distance: {max_value_R7}\")\n",
    "\n",
    "#140:3568\n",
    "specific_value7 = data_P7_Rdist_traveled['right_elbow_Rdist_traveled'][3568] - data_P7_Rdist_traveled['right_elbow_Rdist_traveled'][140]#like last value of biceps curls\n",
    "print(f\"Travelled distance, right elbow: {specific_value7}\")"
   ]
  },
  {
   "cell_type": "code",
   "execution_count": 13,
   "id": "5a939178-9b29-404b-8df4-ca673c8c549e",
   "metadata": {},
   "outputs": [
    {
     "name": "stdout",
     "output_type": "stream",
     "text": [
      "rows - data_P7_Ldist_traveled: 7588\n",
      "Maximum value, travelled distance: 4203649\n",
      "Travelled distance, left elbow: 2657107\n"
     ]
    }
   ],
   "source": [
    "data_P7_Ldist_traveled = pd.read_csv('./training_P7_Ldist_traveled.csv')\n",
    "#Documents/GitHub/motion_capture/data/P7/training_P7_Ldist_traveled.csv\n",
    "\n",
    "#first few rows\n",
    "#print(data_P7_Ldist_traveled.head())\n",
    "\n",
    "#number of rows\n",
    "num_rows_data_P7_Ldist_traveled = len(data_P7_Ldist_traveled)\n",
    "print(f\"rows - data_P7_Ldist_traveled: {num_rows_data_P7_Ldist_traveled}\")\n",
    "\n",
    "max_value_L7 = data_P7_Ldist_traveled['left_elbow_Ldist_traveled'].max()\n",
    "print(f\"Maximum value, travelled distance: {max_value_L7}\")\n",
    "\n",
    "#3808:7493\n",
    "distance_data7 = data_P7_Ldist_traveled['left_elbow_Ldist_traveled'][7493] - data_P7_Ldist_traveled['left_elbow_Ldist_traveled'][3808]#like last value of biceps curls\n",
    "print(f\"Travelled distance, left elbow: {distance_data7}\")"
   ]
  },
  {
   "cell_type": "code",
   "execution_count": null,
   "id": "4a1df381-33ef-48e5-96e4-d241cd151974",
   "metadata": {},
   "outputs": [],
   "source": []
  },
  {
   "cell_type": "code",
   "execution_count": null,
   "id": "5abb42a9-2629-4d58-881f-13addfd790c1",
   "metadata": {},
   "outputs": [],
   "source": []
  }
 ],
 "metadata": {
  "kernelspec": {
   "display_name": "Python 3 (ipykernel)",
   "language": "python",
   "name": "python3"
  },
  "language_info": {
   "codemirror_mode": {
    "name": "ipython",
    "version": 3
   },
   "file_extension": ".py",
   "mimetype": "text/x-python",
   "name": "python",
   "nbconvert_exporter": "python",
   "pygments_lexer": "ipython3",
   "version": "3.9.12"
  }
 },
 "nbformat": 4,
 "nbformat_minor": 5
}
