{
 "cells": [
  {
   "cell_type": "markdown",
   "id": "c28375a7-27f2-4679-a5e0-580301d76c56",
   "metadata": {},
   "source": [
    "# Motion capture\n",
    "\n"
   ]
  },
  {
   "cell_type": "code",
   "execution_count": 16,
   "id": "7766aea9-d0e8-4d0a-a8de-22a2fdf9a837",
   "metadata": {},
   "outputs": [],
   "source": [
    "import pandas as pd"
   ]
  },
  {
   "cell_type": "markdown",
   "id": "3af4224a-0005-4cbb-8983-caca28e90829",
   "metadata": {},
   "source": [
    "## Data analysis\n",
    "\n",
    "**data per person**:\n",
    "* right arm: magnitude, angle (frame info) --> name: **training_P#_ram_final**\n",
    "* left arm: magnitude, angle (frame info) --> name: **training_P#_lam_final**\n",
    "* right elbow: distance traveled (frame info) --> name: **training_P#_Rdist_traveled**\n",
    "* left elbow: distance traveled (frame info) --> name: **training_P#__Ldist_traveled**"
   ]
  },
  {
   "cell_type": "markdown",
   "id": "5513732a-33c2-426c-b119-ec50a62f911a",
   "metadata": {},
   "source": [
    "## P2\n",
    "\n",
    "age: 24\n",
    "* right arm: frame info \n",
    "* left arm: frame info \n",
    "* right elbow: frame info \n",
    "* left elbow: frame info"
   ]
  },
  {
   "cell_type": "code",
   "execution_count": 18,
   "id": "5b6b375b-8204-4f8f-b353-26688a8b7728",
   "metadata": {
    "tags": []
   },
   "outputs": [
    {
     "name": "stdout",
     "output_type": "stream",
     "text": [
      "rows: 5855\n",
      "average_P2_ram_FINAL:100.30015151515153 angle\n"
     ]
    }
   ],
   "source": [
    "data_P2_ram = pd.read_csv('./training_P2_ram_final.csv')\n",
    "#Documents/GitHub/motion_capture/data/P2/training_P1_ram_final.csv\n",
    "\n",
    "#first few rows\n",
    "#print(data_P2_ram.head())\n",
    "\n",
    "#number of rows\n",
    "num_rows_data_P2_ram = len(data_P2_ram)\n",
    "print(f\"rows: {num_rows_data_P2_ram}\")\n",
    "\n",
    "average_P2_ram = data_P2_ram.loc[193:2700,'_ram_final'].mean()\n",
    "#frame info \n",
    "\n",
    "#print(\"Average P1_ram:\", average_P1_ram)\n",
    "average_P2_ram_FINAL = average_P2_ram/1000\n",
    "average_P2_ram_FINAL\n",
    "print(f\"average_P2_ram_FINAL:{average_P2_ram_FINAL} angle\")"
   ]
  },
  {
   "cell_type": "code",
   "execution_count": 20,
   "id": "afc5f09e-46f2-4f63-9522-a9208f4bce05",
   "metadata": {
    "tags": []
   },
   "outputs": [
    {
     "name": "stdout",
     "output_type": "stream",
     "text": [
      "rows: 5855\n",
      "average_P2_lam_FINAL:98.10011389759666 angle\n"
     ]
    }
   ],
   "source": [
    "data_P2_lam = pd.read_csv('./training_P2_lam_final.csv')\n",
    "#Documents/GitHub/motion_capture/data/P2/training_P2_lam_final.csv\n",
    "\n",
    "#first few rows\n",
    "#print(data_P2_lam.head())\n",
    "\n",
    "#number of rows\n",
    "num_rows_data_P2_lam = len(data_P2_lam)\n",
    "print(f\"rows: {num_rows_data_P2_lam}\")\n",
    "\n",
    "average_P2_lam = data_P2_lam.loc[2960:5830,'lam_final'].mean()\n",
    "#frame info \n",
    "\n",
    "#print(\"Average P2_ram:\", average_P2_ram)\n",
    "average_P2_lam_FINAL = average_P2_lam/1000\n",
    "average_P2_lam_FINAL\n",
    "print(f\"average_P2_lam_FINAL:{average_P2_lam_FINAL} angle\")"
   ]
  },
  {
   "cell_type": "code",
   "execution_count": 23,
   "id": "f61d8e61-2912-4841-b3fe-89f8a23d4d57",
   "metadata": {},
   "outputs": [
    {
     "name": "stdout",
     "output_type": "stream",
     "text": [
      "rows - data_P2_Rdist_traveled: 5855\n",
      "Maximum value, travelled distance: 4112636\n",
      "Travelled distance, right elbow: 2608961\n"
     ]
    }
   ],
   "source": [
    "data_P2_Rdist_traveled = pd.read_csv('./training_P2_Rdist_traveled.csv')\n",
    "#Documents/GitHub/motion_capture/data/P2/training_P2_Rdist_traveled.csv\n",
    "\n",
    "#first few rows\n",
    "#print(data_P2_Rdist_traveled.head())\n",
    "\n",
    "#number of rows\n",
    "num_rows_data_P2_Rdist_traveled = len(data_P2_Rdist_traveled)\n",
    "print(f\"rows - data_P2_Rdist_traveled: {num_rows_data_P2_Rdist_traveled}\")\n",
    "\n",
    "max_value_R = data_P2_Rdist_traveled['right_elbow_Rdist_traveled'].max()\n",
    "print(f\"Maximum value, travelled distance: {max_value_R}\")\n",
    "\n",
    "#193:2700\n",
    "specific_value = data_P2_Rdist_traveled['right_elbow_Rdist_traveled'][2700] - data_P2_Rdist_traveled['right_elbow_Rdist_traveled'][193]#like last value of biceps curls\n",
    "print(f\"Travelled distance, right elbow: {specific_value}\")"
   ]
  },
  {
   "cell_type": "code",
   "execution_count": 21,
   "id": "f21019c7-5403-4dab-a72e-192188d2b5d3",
   "metadata": {},
   "outputs": [
    {
     "name": "stdout",
     "output_type": "stream",
     "text": [
      "rows - data_P2_Ldist_traveled: 5855\n",
      "Maximum value, travelled distance: 4724010\n",
      "Travelled distance, left elbow: 3404765\n"
     ]
    }
   ],
   "source": [
    "data_P2_Ldist_traveled = pd.read_csv('./training_P2_Ldist_traveled.csv')\n",
    "#Documents/GitHub/motion_capture/data/P2/training_P2_Ldist_traveled.csv\n",
    "\n",
    "#first few rows\n",
    "#print(data_P2_Ldist_traveled.head())\n",
    "\n",
    "#number of rows\n",
    "num_rows_data_P2_Ldist_traveled = len(data_P2_Ldist_traveled)\n",
    "print(f\"rows - data_P2_Ldist_traveled: {num_rows_data_P2_Ldist_traveled}\")\n",
    "\n",
    "max_value_L = data_P2_Ldist_traveled['left_elbow_Ldist_traveled'].max()\n",
    "print(f\"Maximum value, travelled distance: {max_value_L}\")\n",
    "\n",
    "#2960:5830\n",
    "distance_data = data_P2_Ldist_traveled['left_elbow_Ldist_traveled'][5830] - data_P2_Ldist_traveled['left_elbow_Ldist_traveled'][2960]#like last value of biceps curls\n",
    "print(f\"Travelled distance, left elbow: {distance_data}\")"
   ]
  },
  {
   "cell_type": "code",
   "execution_count": null,
   "id": "f895ecff-44f2-463d-8c28-03a3a41ae356",
   "metadata": {},
   "outputs": [],
   "source": []
  },
  {
   "cell_type": "code",
   "execution_count": null,
   "id": "8d81ca4f-50c5-439f-b59c-92306602653d",
   "metadata": {},
   "outputs": [],
   "source": []
  }
 ],
 "metadata": {
  "kernelspec": {
   "display_name": "Python 3 (ipykernel)",
   "language": "python",
   "name": "python3"
  },
  "language_info": {
   "codemirror_mode": {
    "name": "ipython",
    "version": 3
   },
   "file_extension": ".py",
   "mimetype": "text/x-python",
   "name": "python",
   "nbconvert_exporter": "python",
   "pygments_lexer": "ipython3",
   "version": "3.9.12"
  }
 },
 "nbformat": 4,
 "nbformat_minor": 5
}
