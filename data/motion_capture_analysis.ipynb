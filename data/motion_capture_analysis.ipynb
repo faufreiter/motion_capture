{
 "cells": [
  {
   "cell_type": "markdown",
   "id": "adadd8ab-7b66-4567-b69b-4c30685e9971",
   "metadata": {},
   "source": [
    "# Motion capture\n",
    "\n"
   ]
  },
  {
   "cell_type": "code",
   "execution_count": 1,
   "id": "fcca984d-3c79-4cd1-9b61-e8ce58bc6770",
   "metadata": {},
   "outputs": [],
   "source": [
    "import pandas as pd"
   ]
  },
  {
   "cell_type": "markdown",
   "id": "be84af04-e536-4cd2-8ce1-87e692ddaa49",
   "metadata": {},
   "source": [
    "## Data analysis\n",
    "\n",
    "**data per person**:\n",
    "* right arm: magnitude, angle (frame info) --> name: **training_P#_ram_final**\n",
    "* left arm: magnitude, angle (frame info) --> name: **training_P#_lam_final**\n",
    "* right elbow: distance traveled (frame info) --> name: **training_P#_Rdist_traveled_final**\n",
    "* left elbow: distance traveled (frame info) --> name: **training_P#__Ldist_traveled_final**"
   ]
  },
  {
   "cell_type": "markdown",
   "id": "43de630a-757e-4580-b873-06050945ca22",
   "metadata": {},
   "source": [
    "## P1\n",
    "\n",
    "age: 30\n",
    "* right arm: frame info \n",
    "* left arm: frame info \n",
    "* right elbow: frame info \n",
    "* left elbow: frame info"
   ]
  },
  {
   "cell_type": "code",
   "execution_count": 2,
   "id": "775450b2-bb9a-4d4e-b5f4-9e4cf2fd4ea1",
   "metadata": {},
   "outputs": [
    {
     "name": "stdout",
     "output_type": "stream",
     "text": [
      "rows: 6585\n",
      "average_P1_ram_FINAL:136.7704065299924 angle\n"
     ]
    }
   ],
   "source": [
    "data_P1_ram = pd.read_csv('./data/P1/training_P1_ram_final.csv')\n",
    "#Documents/GitHub/motion_capture/data/P1/training_P1_ram_final.csv\n",
    "#first few rows\n",
    "#print(data_P1_ram.head())\n",
    "\n",
    "#number of rows\n",
    "num_rows_data_P1_ram = len(data_P1_ram)\n",
    "print(f\"rows: {num_rows_data_P1_ram}\")\n",
    "\n",
    "average_P1_ram = data_P1_ram.loc[0:6585,'P1_ram_final'].mean()\n",
    "#frame info \n",
    "\n",
    "#print(\"Average P1_ram:\", average_P1_ram)\n",
    "average_P1_ram_FINAL = average_P1_ram/1000\n",
    "average_P1_ram_FINAL\n",
    "print(f\"average_P1_ram_FINAL:{average_P1_ram_FINAL} angle\")"
   ]
  },
  {
   "cell_type": "code",
   "execution_count": 65,
   "id": "e630247e-56de-43a1-b6c1-9017ee16c408",
   "metadata": {},
   "outputs": [
    {
     "name": "stdout",
     "output_type": "stream",
     "text": [
      "rows: 6585\n",
      "average_P1_lam_FINAL:136.81746985573272 angle\n"
     ]
    }
   ],
   "source": [
    "data_P1_lam = pd.read_csv('./data/P1/training_P1_lam_final.csv')\n",
    "#Documents/GitHub/motion_capture/data/P1/training_P1_lam_final.csv\n",
    "#first few rows\n",
    "#print(data_P1_lam.head())\n",
    "\n",
    "#number of rows\n",
    "num_rows_data_P1_lam = len(data_P1_lam)\n",
    "print(f\"rows: {num_rows_data_P1_lam}\")\n",
    "\n",
    "average_P1_lam = data_P1_lam.loc[0:6585,'angle_lam_final'].mean()\n",
    "#frame info \n",
    "\n",
    "#print(\"Average P1_ram:\", average_P1_ram)\n",
    "average_P1_lam_FINAL = average_P1_lam/1000\n",
    "average_P1_lam_FINAL\n",
    "print(f\"average_P1_lam_FINAL:{average_P1_lam_FINAL} angle\")"
   ]
  },
  {
   "cell_type": "code",
   "execution_count": 64,
   "id": "0a31992c-7078-4d9c-a90b-674ae267f0d7",
   "metadata": {},
   "outputs": [
    {
     "name": "stdout",
     "output_type": "stream",
     "text": [
      "rows - data_P1_Rdist_traveled: 6585\n",
      "Maximum value, travelled distance: 4022250\n",
      "specific value: 2994160\n"
     ]
    }
   ],
   "source": [
    "data_P1_Rdist_traveled = pd.read_csv('./data/P1/training_P1_Rdist_traveled.csv')\n",
    "#Documents/GitHub/motion_capture/data/P1/training_P1_Rdist_traveled.csv\n",
    "#first few rows\n",
    "#print(data_P1_Rdist_traveled.head())\n",
    "\n",
    "#number of rows\n",
    "num_rows_data_P1_Rdist_traveled = len(data_P1_Rdist_traveled)\n",
    "print(f\"rows - data_P1_Rdist_traveled: {num_rows_data_P1_Rdist_traveled}\")\n",
    "\n",
    "max_value = data_P1_Rdist_traveled['right_elbow_Rdist_traveled'].max()\n",
    "print(f\"Maximum value, travelled distance: {max_value}\")\n",
    "\n",
    "specific_value = data_P1_Rdist_traveled['right_elbow_Rdist_traveled'][4000] #like last value of biceps curls\n",
    "print(f\"specific value: {specific_value}\")"
   ]
  },
  {
   "cell_type": "code",
   "execution_count": null,
   "id": "54dd0713-46e9-4c9e-9b28-995f740322ea",
   "metadata": {},
   "outputs": [],
   "source": []
  },
  {
   "cell_type": "code",
   "execution_count": null,
   "id": "c73219a4-6329-41b7-8e93-c0384eb216e3",
   "metadata": {},
   "outputs": [],
   "source": []
  },
  {
   "cell_type": "code",
   "execution_count": null,
   "id": "747d7a09-ff90-4c98-8667-d14c3364aa05",
   "metadata": {},
   "outputs": [],
   "source": []
  }
 ],
 "metadata": {
  "kernelspec": {
   "display_name": "Python 3 (ipykernel)",
   "language": "python",
   "name": "python3"
  },
  "language_info": {
   "codemirror_mode": {
    "name": "ipython",
    "version": 3
   },
   "file_extension": ".py",
   "mimetype": "text/x-python",
   "name": "python",
   "nbconvert_exporter": "python",
   "pygments_lexer": "ipython3",
   "version": "3.9.12"
  }
 },
 "nbformat": 4,
 "nbformat_minor": 5
}
