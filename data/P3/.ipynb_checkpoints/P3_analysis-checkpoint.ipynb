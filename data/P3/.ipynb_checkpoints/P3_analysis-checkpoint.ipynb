{
 "cells": [
  {
   "cell_type": "markdown",
   "id": "3d458426-5456-432b-9841-88de0ee1b391",
   "metadata": {},
   "source": [
    "# Motion capture\n",
    "\n"
   ]
  },
  {
   "cell_type": "code",
   "execution_count": 12,
   "id": "e99f9b09-4d1e-472c-bf61-eb5bb0dfb94d",
   "metadata": {},
   "outputs": [],
   "source": [
    "import pandas as pd"
   ]
  },
  {
   "cell_type": "markdown",
   "id": "99fb07ae-d4cf-44b3-b358-2e9b48fe6378",
   "metadata": {},
   "source": [
    "## Data analysis\n",
    "\n",
    "**data per person**:\n",
    "* right arm: magnitude, angle (frame info) --> name: **training_P#_ram_final**\n",
    "* left arm: magnitude, angle (frame info) --> name: **training_P#_lam_final**\n",
    "* right elbow: distance traveled (frame info) --> name: **training_P#_Rdist_traveled**\n",
    "* left elbow: distance traveled (frame info) --> name: **training_P#__Ldist_traveled**"
   ]
  },
  {
   "cell_type": "markdown",
   "id": "170a6c85-576e-4052-a7b0-da9f675c89a3",
   "metadata": {},
   "source": [
    "## P3\n",
    "\n",
    "age: 24\n",
    "* right arm: frame info \n",
    "* left arm: frame info \n",
    "* right elbow: frame info \n",
    "* left elbow: frame info"
   ]
  },
  {
   "cell_type": "code",
   "execution_count": 18,
   "id": "7bee56fd-e6c9-4292-8ae8-d51ba3a0415d",
   "metadata": {
    "tags": []
   },
   "outputs": [
    {
     "name": "stdout",
     "output_type": "stream",
     "text": [
      "rows: 6118\n",
      "average_P3_ram_FINAL:93.58478628447024 angle\n"
     ]
    }
   ],
   "source": [
    "data_P3_ram = pd.read_csv('./training_P3_ram_final.csv')\n",
    "#Documents/GitHub/motion_capture/data/P3/training_P3_ram_final.csv\n",
    "\n",
    "#first few rows\n",
    "#print(data_P3_ram.head())\n",
    "\n",
    "#number of rows\n",
    "num_rows_data_P3_ram = len(data_P3_ram)\n",
    "print(f\"rows: {num_rows_data_P3_ram}\")\n",
    "\n",
    "average_P3_ram = data_P3_ram.loc[242:2997,'ram_final'].mean()\n",
    "#frame info \n",
    "\n",
    "#print(\"Average P1_ram:\", average_P1_ram)\n",
    "average_P3_ram_FINAL = average_P3_ram/1000\n",
    "average_P3_ram_FINAL\n",
    "print(f\"average_P3_ram_FINAL:{average_P3_ram_FINAL} angle\")"
   ]
  },
  {
   "cell_type": "code",
   "execution_count": 20,
   "id": "761ae939-471e-486e-923b-3dc4f1a55ff4",
   "metadata": {
    "tags": []
   },
   "outputs": [
    {
     "name": "stdout",
     "output_type": "stream",
     "text": [
      "rows: 6118\n",
      "average_P3_lam_FINAL:99.09171464921847 angle\n"
     ]
    }
   ],
   "source": [
    "data_P3_lam = pd.read_csv('./training_P3_lam_final.csv')\n",
    "#Documents/GitHub/motion_capture/data/P3/training_P3_lam_final.csv\n",
    "\n",
    "#first few rows\n",
    "#print(data_P3_lam.head())\n",
    "\n",
    "#number of rows\n",
    "num_rows_data_P3_lam = len(data_P3_lam)\n",
    "print(f\"rows: {num_rows_data_P3_lam}\")\n",
    "\n",
    "average_P3_lam = data_P3_lam.loc[3278:6028,'_lam_final'].mean()\n",
    "#frame info \n",
    "\n",
    "#print(\"Average P3_ram:\", average_P3_ram)\n",
    "average_P3_lam_FINAL = average_P3_lam/1000\n",
    "average_P3_lam_FINAL\n",
    "print(f\"average_P3_lam_FINAL:{average_P3_lam_FINAL} angle\")"
   ]
  },
  {
   "cell_type": "code",
   "execution_count": 19,
   "id": "86520fb0-294c-454e-8c1e-ee1423cf1838",
   "metadata": {},
   "outputs": [
    {
     "name": "stdout",
     "output_type": "stream",
     "text": [
      "rows - data_P3_Rdist_traveled: 6118\n",
      "Maximum value, travelled distance: 5656292\n",
      "Travelled distance, right elbow: 3056802\n"
     ]
    }
   ],
   "source": [
    "data_P3_Rdist_traveled = pd.read_csv('./training_P3_Rdist_traveled.csv')\n",
    "#Documents/GitHub/motion_capture/data/P3/training_P3_Rdist_traveled.csv\n",
    "\n",
    "#first few rows\n",
    "#print(data_P3_Rdist_traveled.head())\n",
    "\n",
    "#number of rows\n",
    "num_rows_data_P3_Rdist_traveled = len(data_P3_Rdist_traveled)\n",
    "print(f\"rows - data_P3_Rdist_traveled: {num_rows_data_P3_Rdist_traveled}\")\n",
    "\n",
    "max_value_R = data_P3_Rdist_traveled['right_elbow_Rdist_traveled'].max()\n",
    "print(f\"Maximum value, travelled distance: {max_value_R}\")\n",
    "\n",
    "#242:2997 ????\n",
    "specific_value = data_P3_Rdist_traveled['right_elbow_Rdist_traveled'][2997] - data_P3_Rdist_traveled['right_elbow_Rdist_traveled'][242]#like last value of biceps curls\n",
    "print(f\"Travelled distance, right elbow: {specific_value}\")"
   ]
  },
  {
   "cell_type": "code",
   "execution_count": 21,
   "id": "da33da12-e883-410c-a748-f49db65b90ec",
   "metadata": {},
   "outputs": [
    {
     "name": "stdout",
     "output_type": "stream",
     "text": [
      "rows - data_P3_Ldist_traveled: 6118\n",
      "Maximum value, travelled distance: 5211624\n",
      "Travelled distance, left elbow: 2711916\n"
     ]
    }
   ],
   "source": [
    "data_P3_Ldist_traveled = pd.read_csv('./training_P3_Ldist_traveled.csv')\n",
    "#Documents/GitHub/motion_capture/data/P3/training_P3_Ldist_traveled.csv\n",
    "\n",
    "#first few rows\n",
    "#print(data_P3_Ldist_traveled.head())\n",
    "\n",
    "#number of rows\n",
    "num_rows_data_P3_Ldist_traveled = len(data_P3_Ldist_traveled)\n",
    "print(f\"rows - data_P3_Ldist_traveled: {num_rows_data_P3_Ldist_traveled}\")\n",
    "\n",
    "\n",
    "max_value_L = data_P3_Ldist_traveled['left_elbow_Ldist_traveled'].max()\n",
    "print(f\"Maximum value, travelled distance: {max_value_L}\")\n",
    "\n",
    "#3278:6028\n",
    "distance_data = data_P3_Ldist_traveled['left_elbow_Ldist_traveled'][6028] - data_P3_Ldist_traveled['left_elbow_Ldist_traveled'][3278]#like last value of biceps curls\n",
    "print(f\"Travelled distance, left elbow: {distance_data}\")"
   ]
  },
  {
   "cell_type": "code",
   "execution_count": null,
   "id": "c5b6494b-57ee-40ac-8118-6c65f3d20a84",
   "metadata": {},
   "outputs": [],
   "source": []
  },
  {
   "cell_type": "code",
   "execution_count": null,
   "id": "b39e3b65-f68a-458e-aa5e-1e2b0ffad424",
   "metadata": {},
   "outputs": [],
   "source": []
  }
 ],
 "metadata": {
  "kernelspec": {
   "display_name": "Python 3 (ipykernel)",
   "language": "python",
   "name": "python3"
  },
  "language_info": {
   "codemirror_mode": {
    "name": "ipython",
    "version": 3
   },
   "file_extension": ".py",
   "mimetype": "text/x-python",
   "name": "python",
   "nbconvert_exporter": "python",
   "pygments_lexer": "ipython3",
   "version": "3.9.12"
  }
 },
 "nbformat": 4,
 "nbformat_minor": 5
}
