{
 "cells": [
  {
   "cell_type": "code",
   "execution_count": 1,
   "id": "2b217df2-f7fe-4795-a7f3-1a85b2241494",
   "metadata": {},
   "outputs": [],
   "source": [
    "import pandas as pd"
   ]
  },
  {
   "cell_type": "code",
   "execution_count": 2,
   "id": "0d1aa805-3f42-4910-9fe3-9b2e3cd47769",
   "metadata": {},
   "outputs": [
    {
     "name": "stdout",
     "output_type": "stream",
     "text": [
      "  participant  age  rows                ram               lam  \\\n",
      "0          P1   30   6585  111,064965853659  110,211628463907   \n",
      "1          P2   24   5855  100,300151515152  98,1001138975967   \n",
      "2          P3   24   6118  93,5847862844702  99,0917146492185   \n",
      "3          P4   27   6090  88,9899033684927  92,8538193943763   \n",
      "4          P5   27   4817  97,3477153153153  95,7412116925978   \n",
      "5          P6   30   5716  95,5076518489379  91,2515652003142   \n",
      "6          P7   41   7588  105,303638086906  107,696380358112   \n",
      "\n",
      "   exercise_Rdist_traveled   exercise_Ldist_traveled   \n",
      "0                   2314350                   2566894  \n",
      "1                   2608961                   3404765  \n",
      "2                   3056802                   2711916  \n",
      "3                   4812481                   3996350  \n",
      "4                   3269015                   4037172  \n",
      "5                   2869954                   2700990  \n",
      "6                   3284535                   2657107  \n"
     ]
    }
   ],
   "source": [
    "project_data = pd.read_csv('./project_data_collection.csv')\n",
    "#Documents/GitHub/motion_capture/data/project_data_collection.ods\n",
    "\n",
    "#first few rows\n",
    "print(project_data.head(7))"
   ]
  },
  {
   "cell_type": "code",
   "execution_count": 19,
   "id": "5ce70979-b5f8-418f-907e-12a085cb49dc",
   "metadata": {},
   "outputs": [
    {
     "data": {
      "text/plain": [
       "participant                 object\n",
       "age                          int64\n",
       "rows                         int64\n",
       "ram                          int64\n",
       "lam                         object\n",
       "exercise_Rdist_traveled      int64\n",
       "exercise_Ldist_traveled      int64\n",
       "dtype: object"
      ]
     },
     "execution_count": 19,
     "metadata": {},
     "output_type": "execute_result"
    }
   ],
   "source": [
    "project_data.dtypes"
   ]
  },
  {
   "cell_type": "code",
   "execution_count": 20,
   "id": "acaeed52-86c1-4f98-acf2-cfc053ded7d4",
   "metadata": {},
   "outputs": [
    {
     "name": "stdout",
     "output_type": "stream",
     "text": [
      "The average degrees RIGHT arm: 581567046232554.0\n"
     ]
    }
   ],
   "source": [
    "average_degrees_R = project_data['ram'].mean()\n",
    "print(f\"The average degrees RIGHT arm: {average_degrees_R}\")"
   ]
  },
  {
   "cell_type": "code",
   "execution_count": 21,
   "id": "b32abf30-1736-4dec-aee7-eefcaa8a44f2",
   "metadata": {},
   "outputs": [
    {
     "name": "stdout",
     "output_type": "stream",
     "text": [
      "The average value of RAM is: 581567046232554.0\n"
     ]
    }
   ],
   "source": [
    "# Convert 'ram' column to string (if it's not already), then replace commas and convert to numeric\n",
    "project_data['ram'] = pd.to_numeric(project_data['ram'].astype(str).str.replace(',', ''), errors='coerce')\n",
    "\n",
    "# Now calculate the average\n",
    "average_ram = project_data['ram'].sum() / 7\n",
    "print(f\"The average value of RAM is: {average_ram}\")"
   ]
  },
  {
   "cell_type": "code",
   "execution_count": null,
   "id": "85393c10-723a-4086-9aef-b86e162bb52a",
   "metadata": {},
   "outputs": [],
   "source": []
  }
 ],
 "metadata": {
  "kernelspec": {
   "display_name": "Python 3 (ipykernel)",
   "language": "python",
   "name": "python3"
  },
  "language_info": {
   "codemirror_mode": {
    "name": "ipython",
    "version": 3
   },
   "file_extension": ".py",
   "mimetype": "text/x-python",
   "name": "python",
   "nbconvert_exporter": "python",
   "pygments_lexer": "ipython3",
   "version": "3.9.12"
  }
 },
 "nbformat": 4,
 "nbformat_minor": 5
}
