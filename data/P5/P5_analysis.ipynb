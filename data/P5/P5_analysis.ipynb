{
 "cells": [
  {
   "cell_type": "markdown",
   "id": "f435fd1a-6878-4b16-8dd7-96d7cac5187c",
   "metadata": {},
   "source": [
    "# Motion capture\n",
    "\n"
   ]
  },
  {
   "cell_type": "code",
   "execution_count": 8,
   "id": "08b9a1cb-319b-484a-bab9-382afb112a50",
   "metadata": {},
   "outputs": [],
   "source": [
    "import pandas as pd"
   ]
  },
  {
   "cell_type": "markdown",
   "id": "93e76ed8-328d-4b3a-8d07-0ecd04b625dc",
   "metadata": {},
   "source": [
    "## Data analysis\n",
    "\n",
    "**data per person**:\n",
    "* right arm: magnitude, angle (frame info) --> name: **training_P#_ram_final**\n",
    "* left arm: magnitude, angle (frame info) --> name: **training_P#_lam_final**\n",
    "* right elbow: distance traveled (frame info) --> name: **training_P#_Rdist_traveled**\n",
    "* left elbow: distance traveled (frame info) --> name: **training_P#__Ldist_traveled**"
   ]
  },
  {
   "cell_type": "markdown",
   "id": "5167d185-2fc9-4c05-b676-e488e96d451a",
   "metadata": {},
   "source": [
    "## P5\n",
    "\n",
    "age: 27\n",
    "* right arm: frame info \n",
    "* left arm: frame info \n",
    "* right elbow: frame info \n",
    "* left elbow: frame info"
   ]
  },
  {
   "cell_type": "code",
   "execution_count": 16,
   "id": "a6dc0cc1-c43f-4919-b62b-dcadfd50d9b5",
   "metadata": {
    "tags": []
   },
   "outputs": [
    {
     "name": "stdout",
     "output_type": "stream",
     "text": [
      "rows: 4817\n",
      "average_P5_ram_FINAL:97.34771531531531 angle\n"
     ]
    }
   ],
   "source": [
    "data_P5_ram = pd.read_csv('./training_P5_ram_final.csv')\n",
    "#Documents/GitHub/motion_capture/data/P5/training_P5_ram_final.csv\n",
    "\n",
    "#first few rows\n",
    "#print(data_P5_ram.head())\n",
    "\n",
    "#number of rows\n",
    "num_rows_data_P5_ram = len(data_P5_ram)\n",
    "print(f\"rows: {num_rows_data_P5_ram}\")\n",
    "\n",
    "average_P5_ram = data_P5_ram.loc[211:2430,'_ram_final'].mean()\n",
    "#frame info \n",
    "\n",
    "#print(\"Average P5_ram:\", average_P5_ram)\n",
    "average_P5_ram_FINAL = average_P5_ram/1000\n",
    "average_P5_ram_FINAL\n",
    "print(f\"average_P5_ram_FINAL:{average_P5_ram_FINAL} angle\")"
   ]
  },
  {
   "cell_type": "code",
   "execution_count": 18,
   "id": "0d6e005f-cc81-4f79-b439-eac61afc9ec0",
   "metadata": {
    "tags": []
   },
   "outputs": [
    {
     "name": "stdout",
     "output_type": "stream",
     "text": [
      "rows: 4817\n",
      "average_P5_lam_FINAL:95.74121169259783 angle\n"
     ]
    }
   ],
   "source": [
    "data_P5_lam = pd.read_csv('./training_P5_lam_final.csv')\n",
    "#Documents/GitHub/motion_capture/data/P5/training_P5_lam_final.csv\n",
    "\n",
    "#first few rows\n",
    "#print(data_P5_lam.head())\n",
    "\n",
    "#number of rows\n",
    "num_rows_data_P5_lam = len(data_P5_lam)\n",
    "print(f\"rows: {num_rows_data_P5_lam}\")\n",
    "\n",
    "average_P5_lam = data_P5_lam.loc[2646:4766,'_lam_final'].mean()\n",
    "#frame info \n",
    "\n",
    "#print(\"Average P5_ram:\", average_P5_ram)\n",
    "average_P5_lam_FINAL = average_P5_lam/1000\n",
    "average_P5_lam_FINAL\n",
    "print(f\"average_P5_lam_FINAL:{average_P5_lam_FINAL} angle\")"
   ]
  },
  {
   "cell_type": "code",
   "execution_count": 17,
   "id": "50f69d9b-4484-418d-b0d3-5427b05447d0",
   "metadata": {},
   "outputs": [
    {
     "name": "stdout",
     "output_type": "stream",
     "text": [
      "rows - data_P5_Rdist_traveled: 4817\n",
      "Maximum value, travelled distance: 5288662\n",
      "Travelled distance, right elbow: 3269015\n"
     ]
    }
   ],
   "source": [
    "data_P5_Rdist_traveled = pd.read_csv('./training_P5_Rdist_traveled.csv')\n",
    "#Documents/GitHub/motion_capture/data/P5/training_P5_Rdist_traveled.csv\n",
    "\n",
    "#first few rows\n",
    "#print(data_P5_Rdist_traveled.head())\n",
    "\n",
    "#number of rows\n",
    "num_rows_data_P5_Rdist_traveled = len(data_P5_Rdist_traveled)\n",
    "print(f\"rows - data_P5_Rdist_traveled: {num_rows_data_P5_Rdist_traveled}\")\n",
    "\n",
    "max_value_R5 = data_P5_Rdist_traveled['right_elbow_Rdist_traveled'].max()\n",
    "print(f\"Maximum value, travelled distance: {max_value_R5}\")\n",
    "\n",
    "#211:2430\n",
    "specific_value5 = data_P5_Rdist_traveled['right_elbow_Rdist_traveled'][2430] - data_P5_Rdist_traveled['right_elbow_Rdist_traveled'][211]#like last value of biceps curls\n",
    "print(f\"Travelled distance, right elbow: {specific_value5}\")"
   ]
  },
  {
   "cell_type": "code",
   "execution_count": 19,
   "id": "a7d35aef-2292-4c5f-a458-da4356e43c79",
   "metadata": {},
   "outputs": [
    {
     "name": "stdout",
     "output_type": "stream",
     "text": [
      "rows - data_P5_Ldist_traveled: 4817\n",
      "Maximum value, travelled distance: 6386752\n",
      "Travelled distance, left elbow: 4037172\n"
     ]
    }
   ],
   "source": [
    "data_P5_Ldist_traveled = pd.read_csv('./training_P5_Ldist_traveled.csv')\n",
    "#Documents/GitHub/motion_capture/data/P5/training_P5_Ldist_traveled.csv\n",
    "\n",
    "#first few rows\n",
    "#print(data_P5_Ldist_traveled.head())\n",
    "\n",
    "#number of rows\n",
    "num_rows_data_P5_Ldist_traveled = len(data_P5_Ldist_traveled)\n",
    "print(f\"rows - data_P5_Ldist_traveled: {num_rows_data_P5_Ldist_traveled}\")\n",
    "\n",
    "max_value_L5 = data_P5_Ldist_traveled['left_elbow_Ldist_traveled'].max()\n",
    "print(f\"Maximum value, travelled distance: {max_value_L5}\")\n",
    "\n",
    "#2646:4766\n",
    "distance_data5 = data_P5_Ldist_traveled['left_elbow_Ldist_traveled'][4766] - data_P5_Ldist_traveled['left_elbow_Ldist_traveled'][2646]#like last value of biceps curls\n",
    "print(f\"Travelled distance, left elbow: {distance_data5}\")"
   ]
  },
  {
   "cell_type": "code",
   "execution_count": null,
   "id": "133db35a-1548-49b6-8c88-8a3f33ef22c4",
   "metadata": {},
   "outputs": [],
   "source": []
  },
  {
   "cell_type": "code",
   "execution_count": null,
   "id": "548dda40-8eed-4f51-b147-8e1691629099",
   "metadata": {},
   "outputs": [],
   "source": []
  }
 ],
 "metadata": {
  "kernelspec": {
   "display_name": "Python 3 (ipykernel)",
   "language": "python",
   "name": "python3"
  },
  "language_info": {
   "codemirror_mode": {
    "name": "ipython",
    "version": 3
   },
   "file_extension": ".py",
   "mimetype": "text/x-python",
   "name": "python",
   "nbconvert_exporter": "python",
   "pygments_lexer": "ipython3",
   "version": "3.9.12"
  }
 },
 "nbformat": 4,
 "nbformat_minor": 5
}
